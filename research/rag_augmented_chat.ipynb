{
 "cells": [
  {
   "cell_type": "code",
   "execution_count": 1,
   "metadata": {},
   "outputs": [
    {
     "name": "stderr",
     "output_type": "stream",
     "text": [
      "/Users/sanca/miniconda3/envs/urbia-rag/lib/python3.12/site-packages/tqdm/auto.py:21: TqdmWarning: IProgress not found. Please update jupyter and ipywidgets. See https://ipywidgets.readthedocs.io/en/stable/user_install.html\n",
      "  from .autonotebook import tqdm as notebook_tqdm\n",
      "No sentence-transformers model found with name aari1995/German_Semantic_STS_V2. Creating a new one with MEAN pooling.\n"
     ]
    }
   ],
   "source": [
    "from langchain_community.embeddings import HuggingFaceEmbeddings\n",
    "from langchain_core.runnables import RunnableParallel, RunnablePassthrough\n",
    "from langchain_core.output_parsers import StrOutputParser\n",
    "from langchain_core.prompts import ChatPromptTemplate\n",
    "from langchain_anthropic import ChatAnthropic\n",
    "from langchain_community.callbacks import get_openai_callback\n",
    "from langchain_openai import ChatOpenAI\n",
    "\n",
    "EMBEDDING_MODEL = 'aari1995/German_Semantic_STS_V2'\n",
    "model_kwargs = {'device':'cpu'}\n",
    "encode_kwargs = {'normalize_embeddings': True}\n",
    "\n",
    "# Initialize an instance of HuggingFaceEmbeddings with the custom embedding model\n",
    "embedding_model_wrapper = HuggingFaceEmbeddings(\n",
    "    model_name=EMBEDDING_MODEL,\n",
    "    model_kwargs=model_kwargs,\n",
    "    encode_kwargs=encode_kwargs\n",
    ")"
   ]
  },
  {
   "cell_type": "code",
   "execution_count": 2,
   "metadata": {},
   "outputs": [],
   "source": [
    "def print_matches(matches):\n",
    "    for p in matches:\n",
    "        print(f\"\\n\\nMatch with similarity {p[1]}:\\n{p[0].page_content}\")"
   ]
  },
  {
   "cell_type": "code",
   "execution_count": 3,
   "metadata": {},
   "outputs": [],
   "source": [
    "from langchain_community.vectorstores import FAISS\n",
    "vector_store = FAISS.load_local(\"../res/forum_index\", embedding_model_wrapper, allow_dangerous_deserialization=True)"
   ]
  },
  {
   "cell_type": "code",
   "execution_count": 4,
   "metadata": {},
   "outputs": [],
   "source": [
    "# answer1 = vector_store.similarity_search_with_score(\"Kind wacht stündlich auf\")\n",
    "# print_matches(answer1)"
   ]
  },
  {
   "cell_type": "code",
   "execution_count": 5,
   "metadata": {},
   "outputs": [],
   "source": [
    "\n",
    "def format_docs(docs):\n",
    "    return \"\\n\\n\".join(doc.page_content for doc in docs)\n",
    "\n",
    "def get_rag_chain(vectorstore, llm):\n",
    "    retriever = vectorstore.as_retriever()\n",
    "    template = \"\"\"Du bist ein hilfreicher Assistent für junge Eltern, der Informationen aus Foren sammelt, um Eltern bei der Beantwortung von Fragen über ihre Kinder zu helfen.\n",
    "\n",
    "            Verwende die folgenden Konversationen aus Elternforen, um die Frage des Benutzers zu beantworten. Jede Zeile beginnt mit dem Namen des Benutzers, gefolgt von \":\" und dann dem Kommentar, zum Beispiel so: \"John: Bei mir ist es genauso.\"\n",
    "            Verschiedene Konversationen können sich auf dasselbe Thema beziehen.\n",
    "            <conversations>\n",
    "            {context}\n",
    "            </conversations>\n",
    "            \n",
    "            Wenn du die Unterhaltungen im Forum zitierst, gib bitte den Benutzernamen in deiner Antwort an. Hier ist ein Beispiel in <example> Tags:\n",
    "            <example>\n",
    "            Viele Nutzer sagen dass es normal ist. Cari234 sagt, z.B, dass sie täglich überfordert ist. Lomo2 hat gleiche Erfahrungen.\n",
    "            </example>\n",
    "\n",
    "            Schreib eine klare Antwort auf diese Frage:\n",
    "            <question>\n",
    "            {question}\n",
    "            </question>\n",
    "\n",
    "            Wenn du die Antwort nicht weißt, sag einfach, dass du es nicht weißt.\n",
    "            Wenn du die Frage beantwortest, nenn bitte konkrete Beispiele und Tipps aus den Forendiskussionen und verallgemeinere die Details nicht.\n",
    "\n",
    "            Bevor du antwortest, gehe die folgenden Schritte durch:\n",
    "            1. Fasse jede Unterhaltung zusammen und extrahiere die relevanten Informationen, Details und Beispiele, die sich auf die Benutzerfrage beziehen. Gib die Zusammenfassungen in <summary>-Tags aus.\n",
    "            2. Beantworte die Benutzerfrage auf der Grundlage der Zusammenfassungen von Schritt 1. Füge alle relevanten Informationen, Details und Beispiele ein. Behalte die Antwort auf maximal 5 Sätze. Gib diesen Text im <answer>-Tag aus.\n",
    "            \"\"\"\n",
    "\n",
    "    prompt = ChatPromptTemplate.from_template(template)\n",
    "\n",
    "    rag_chain = (\n",
    "        RunnablePassthrough.assign(context=(lambda x: format_docs(x[\"context\"])))\n",
    "        | prompt\n",
    "        | llm\n",
    "        | StrOutputParser()\n",
    "    )\n",
    "\n",
    "    rag_chain_with_source = RunnableParallel(\n",
    "        {\n",
    "            \"context\": retriever,\n",
    "            \"question\": RunnablePassthrough()\n",
    "        }\n",
    "    ).assign(answer=rag_chain)\n",
    "    return rag_chain_with_source\n",
    "\n",
    "gpt4_preview = ChatOpenAI(model_name=\"gpt-4-1106-preview\")\n",
    "gpt4 = ChatOpenAI(model_name=\"gpt-4\")\n",
    "gpt3_5 = ChatOpenAI(model_name=\"gpt-3.5-turbo-0125\")\n",
    "\n",
    "opus = ChatAnthropic(model='claude-3-opus-20240229')\n",
    "sonnet = ChatAnthropic(model='claude-3-sonnet-20240229')\n",
    "haiku = ChatAnthropic(model='claude-3-haiku-20240307')\n",
    "\n",
    "\n",
    "rag_opus = get_rag_chain(vector_store, opus)\n",
    "rag_sonnet = get_rag_chain(vector_store, sonnet)\n",
    "rag_haiku = get_rag_chain(vector_store, haiku)\n",
    "rag_gpt4_preview = get_rag_chain(vector_store, gpt4_preview)\n",
    "rag_gpt4 = get_rag_chain(vector_store, gpt4)\n",
    "rag_gpt3_5 = get_rag_chain(vector_store, gpt3_5)"
   ]
  },
  {
   "cell_type": "code",
   "execution_count": 6,
   "metadata": {},
   "outputs": [
    {
     "name": "stderr",
     "output_type": "stream",
     "text": [
      "huggingface/tokenizers: The current process just got forked, after parallelism has already been used. Disabling parallelism to avoid deadlocks...\n",
      "To disable this warning, you can either:\n",
      "\t- Avoid using `tokenizers` before the fork if possible\n",
      "\t- Explicitly set the environment variable TOKENIZERS_PARALLELISM=(true | false)\n"
     ]
    },
    {
     "name": "stdout",
     "output_type": "stream",
     "text": [
      "Tokens Used: 2581\n",
      "\tPrompt Tokens: 2214\n",
      "\tCompletion Tokens: 367\n",
      "Successful Requests: 1\n",
      "Total Cost (USD): $0.0016575\n",
      "<summary>\n",
      "SteMatz berichtet, dass ihr Baby alle 1-2 Stunden unruhig aufwacht, was zu Schlafmangel und Zerstreutheit führt. Muriel erklärt, dass die Schlafphase, in der man geweckt wird, auch wichtig ist. lattemachiatto erwähnt, dass die Schlafumgebung und Mängel wie Vitamin D oder Eisenmangel den Schlaf beeinflussen können. Mami823 teilt ihre Erfahrungen mit ihrem Baby, das alle 2 Stunden zum Schlafen gebracht werden musste. Michelleebwn berichtet von ihrem Baby, das nachts weinend aufwacht, möglicherweise aufgrund von Zähnen oder neuen Fähigkeiten wie dem Robben. Wunschmama2o20 erwähnt, dass solche Phasen nach Wachstumsschüben vorübergehen können. anonym676 beschreibt, wie ihr 4 Monate altes Baby stündlich aufwacht, viel trinkt und nur in ihrem Arm schläft, was zu Müdigkeit und Sorgen führt.\n",
      "</summary>\n",
      "<answer>\n",
      "Es scheint, dass die häufigen nächtlichen Unterbrechungen bei Babys häufig vorkommen und verschiedene Ursachen haben können, wie z.B. Zähne, neue Fähigkeiten oder Wachstumsschübe. Es könnte hilfreich sein, die Schlafumgebung zu optimieren, auf mögliche Mängel wie Vitamin D oder Eisen zu achten und möglicherweise eine regelmäßige Schlafenszeit einzuführen, um dem Baby beim Einschlafen zu helfen.\n",
      "</answer>\n"
     ]
    }
   ],
   "source": [
    "# with get_openai_callback() as cb:\n",
    "#     answer = rag_gpt3_5.invoke(\"Kind wird nachts stündlich wach\")\n",
    "#     print(cb)\n",
    "# print(answer['answer'])"
   ]
  },
  {
   "cell_type": "code",
   "execution_count": 9,
   "metadata": {},
   "outputs": [
    {
     "name": "stdout",
     "output_type": "stream",
     "text": [
      "Tokens Used: 2805\n",
      "\tPrompt Tokens: 2214\n",
      "\tCompletion Tokens: 591\n",
      "Successful Requests: 1\n",
      "Total Cost (USD): $0.03987\n",
      "<summary>\n",
      "SteMatz spricht über unruhigen Schlaf ihres Kindes und dass es etwa alle 1-2 Stunden aufwacht. Sie gewöhnt sich an den Schlafmangel, auch wenn es schwierig ist. Blabliblu meint, man gewöhne sich an regelmäßiges nächtliches Aufwachen und dass es einen Unterschied macht, ob man selbst aufwacht oder geweckt wird. Muriel weist darauf hin, dass die Schlafphase, in der man geweckt wird, und die eigene Gesundheit eine Rolle spielen. lattemachiatto führt Müdigkeit auf Vitamin D- und Eisenmangel zurück und sagt, dass das Baby in ihrer Nähe besser schlafen würde. Mami823 berichtet, dass ihr Baby bei regelmäßigem Schlafversuch alle 2 Stunden weniger übermüdet war und empfiehlt, durchzuhalten, da die Entwicklung des Babys solche Phasen mit sich bringt. Michelleebwn berichtet, dass ihr 9 Monate altes Baby nachts oft weinend aufsteht, obwohl es normalerweise gut weiterschläft, nachdem es gestillt wurde. Wunschmama2o20 teilt mit, dass ähnliche Phasen bei ihrer Tochter auftraten, wenn diese einen Entwicklungsschub durchmachte. anonym676 beschreibt, dass ihr 4 Monate altes Baby stündlich aufwacht und viel trinkt, sich aber nicht mehr allein beschäftigt und tagsüber müde wirkt.\n",
      "</summary>\n",
      "\n",
      "<answer>\n",
      "Es scheint normal zu sein, dass Kinder in bestimmten Entwicklungsphasen nachts häufig aufwachen. Mami823 erlebte ähnliches, als ihr Kind 3,5 Monate alt war und empfiehlt, das Baby konsequent alle 2 Stunden zum Schlafen zu bringen, um Übermüdung zu vermeiden. Wunschmama2o20 deutet darauf hin, dass solche Phasen auch mit Wachstumsschüben und dem Erlernen neuer Fähigkeiten zusammenhängen können. Es könnte nützlich sein, die Schlafumgebung des Babys anzupassen, wie lattemachiatto vorschlägt, indem das Baby näher bei den Eltern schläft, um die Schlafphasen besser anzugleichen. Muriel und Blabliblu weisen darauf hin, dass die Schlafqualität der Eltern auch von der Schlafphase abhängt, in der sie geweckt werden, und davon, ob man gesundheitlich angeschlagen ist.\n",
      "</answer>\n"
     ]
    }
   ],
   "source": [
    "# with get_openai_callback() as cb:\n",
    "#     answer = rag_gpt4_preview.invoke(\"Kind wird nachts stündlich wach\")\n",
    "#     print(cb)\n",
    "# print(answer['answer'])"
   ]
  },
  {
   "cell_type": "code",
   "execution_count": 10,
   "metadata": {},
   "outputs": [
    {
     "name": "stdout",
     "output_type": "stream",
     "text": [
      "Tokens Used: 2689\n",
      "\tPrompt Tokens: 2214\n",
      "\tCompletion Tokens: 475\n",
      "Successful Requests: 1\n",
      "Total Cost (USD): $0.09491999999999999\n",
      "<summary>\n",
      "SteMatz, Blabliblu und Muriel diskutieren über die Schwierigkeiten, die sie mit ihren Babys haben, die nachts aufwachen. Sie betonen, dass es normal ist, dass Babys unruhig schlafen und dass Eltern lernen müssen, mit Schlafentzug umzugehen. Sie betonen auch, dass das Aufwachen in der falschen Schlafphase zu erhöhter Müdigkeit führen kann. Lattemachiatto weist darauf hin, dass ein Vitamin D- oder Eisenmangel dazu führen kann, dass man sich müder fühlt. Mami823 erwähnt, dass ihr Baby nachts nie ein Bäuerchen gemacht hat und dass es direkt in ihrem Beistellbett gefüttert wurde. \n",
      "Michelleebwn berichtet, dass ihr 9 Monate altes Baby nachts weinend aufwacht und fragt nach Lösungsvorschlägen. Wunschmama2o20 antwortet, dass ihre Tochter ähnliches Verhalten zeigte, wenn sie einen Wachstumsschub hatte und etwas Neues gelernt hat.\n",
      "Anonym676 beschreibt eine ähnliche Situation, in der ihr 4 Monate altes Baby stündlich aufwacht und nur in ihrem Arm ruhig schlafen kann.\n",
      "</summary>\n",
      "\n",
      "<answer>\n",
      "Es ist nicht ungewöhnlich, dass Babys nachts aufwachen, wie SteMatz, Muriel und andere Nutzer berichten. Es kann sein, dass dein Baby in einer \"falschen\" Schlafphase geweckt wird, was zu Unruhe führen kann. Mami823 füttert ihr Baby nachts im Beistellbett, was das wieder Einschlafen erleichtert. Wunschmama2o20 weist darauf hin, dass Wachstumsschübe und neue Lernprozesse das Schlafmuster eines Babys beeinträchtigen können. Du könntest auch prüfen, ob ein Vitamin D- oder Eisenmangel bei dir zu erhöhter Müdigkeit führt, wie Lattemachiatto suggeriert.\n",
      "</answer>\n"
     ]
    }
   ],
   "source": [
    "# with get_openai_callback() as cb:\n",
    "#     answer = rag_gpt4.invoke(\"Kind wird nachts stündlich wach\")\n",
    "#     print(cb)\n",
    "# print(answer['answer'])"
   ]
  },
  {
   "cell_type": "code",
   "execution_count": 11,
   "metadata": {},
   "outputs": [
    {
     "name": "stderr",
     "output_type": "stream",
     "text": [
      "huggingface/tokenizers: The current process just got forked, after parallelism has already been used. Disabling parallelism to avoid deadlocks...\n",
      "To disable this warning, you can either:\n",
      "\t- Avoid using `tokenizers` before the fork if possible\n",
      "\t- Explicitly set the environment variable TOKENIZERS_PARALLELISM=(true | false)\n"
     ]
    },
    {
     "name": "stdout",
     "output_type": "stream",
     "text": [
      "Gut, lass uns die Forenbeiträge analysieren und eine Antwort für dich finden.\n",
      "\n",
      "<summary>\n",
      "SteMatz berichtet, dass ihr Baby nachts unruhig schläft und sie alle 1-2 Stunden wach wird. Blabliblu erklärt, dass man sich mit der Zeit daran gewöhnt, wenn die Blutwerte passen. Muriel fügt hinzu, dass es darauf ankommt, in welcher Schlafphase das Baby geweckt wird, und dass Hormonschwankungen nach der Geburt eine Rolle spielen können. lattemachiatto nennt mögliche Gründe wie Vitamin-D-Mangel, Eisenmangel oder wenn das Baby zu weit entfernt schläft, so dass die Schlafphasen nicht synchron sind.\n",
      "</summary>\n",
      "\n",
      "<summary>\n",
      "Mami823 berichtet, dass ihr Baby mit ca. 3,5 Monaten sehr unruhig wurde, nur noch kurze Schlafphasen hatte und ständig quengelig war. Sie musste das Baby alle 2 Stunden zum Schlafen bringen. Sie erklärt, dass solche Phasen normal sind und es immer wieder Herausforderungen geben wird, zum Beispiel beim Zahnen. Wichtig sei, durchzuhalten und nicht zu denken, das Baby hasse einen.\n",
      "</summary>\n",
      "\n",
      "<summary>\n",
      "Michelleebwn berichtet, dass ihr 9 Monate altes Baby seit einigen Tagen nachts weinend aufwacht. Sie überlegt, ob das mit dem Laufen-Lernen zusammenhängen könnte. Sie fragt, ob sie dem Baby Schmerzmittel geben soll, auch wenn es sich sonst schnell beruhigt. Wunschmama2020 erklärt, dass solche Phasen häufig auftreten, wenn Babys etwas Neues lernen und es nach 1-2 Wochen wieder besser wird.\n",
      "</summary>\n",
      "\n",
      "<answer>\n",
      "Basierend auf den Forendiskussionen scheint es normal zu sein, dass Babys nachts häufig aufwachen und unruhig schlafen, besonders in Entwicklungsphasen wie beim Zahnen oder Laufen-Lernen. Einige Mütter berichten, dass es eine Zeit braucht, bis man sich daran gewöhnt. Wichtig ist, durchzuhalten und nicht zu denken, dass das Baby einen hasst. Mögliche Ursachen können Vitamin-D-Mangel, Eisenmangel oder eine Störung der Schlafphasen sein, wenn das Baby zu weit entfernt schläft. Manchmal hilft es auch, das Baby öfter zum Schlafen zu bringen. Schmerzmittel sollte man nur geben, wenn das Baby wirklich große Schmerzen zu haben scheint und sich sonst nicht beruhigen lässt.\n",
      "</answer>\n"
     ]
    }
   ],
   "source": [
    "# answer = rag_haiku.invoke(\"Kind wird nachts stündlich wach\")\n",
    "# print(answer['answer'])"
   ]
  },
  {
   "cell_type": "code",
   "execution_count": null,
   "metadata": {},
   "outputs": [],
   "source": [
    "# answer = rag_sonnet.invoke(\"Kind wird nachts stündlich wach\")\n",
    "# print(answer['answer'])"
   ]
  },
  {
   "cell_type": "code",
   "execution_count": null,
   "metadata": {},
   "outputs": [],
   "source": [
    "# answer = rag_opus.invoke(\"Kind wird nachts stündlich wach\")\n",
    "# print(answer['answer'])"
   ]
  },
  {
   "cell_type": "code",
   "execution_count": 1,
   "metadata": {},
   "outputs": [
    {
     "name": "stderr",
     "output_type": "stream",
     "text": [
      "2024-04-08 15:05:08.131 \n",
      "  \u001b[33m\u001b[1mWarning:\u001b[0m to view this Streamlit app on a browser, run it with the following\n",
      "  command:\n",
      "\n",
      "    streamlit run /Users/sanca/miniconda3/envs/urbia-rag/lib/python3.12/site-packages/ipykernel_launcher.py [ARGUMENTS]\n"
     ]
    }
   ],
   "source": [
    "import streamlit as st\n",
    "\n",
    "def generate_response(query_text):\n",
    "    answer = rag_haiku.invoke(query_text)\n",
    "    return answer['answer']\n",
    "\n",
    "# Page title\n",
    "st.set_page_config(page_title='👶🏼 Kinder Forum')\n",
    "st.title('👶🏼 Kinder Themen 👶🏼')\n",
    "\n",
    "# Query text\n",
    "query_text = st.text_input('Worum geht es?', placeholder = 'Baby schreit nachts.')\n",
    "\n",
    "# Form input and query\n",
    "result = []\n",
    "with st.form('myform', clear_on_submit=True):\n",
    "    submitted = st.form_submit_button('Submit', disabled=not(query_text))\n",
    "    if submitted:\n",
    "        with st.spinner('Suchen...'):\n",
    "            response = generate_response(query_text)\n",
    "            result.append(response)\n",
    "if len(result):\n",
    "    st.info(response)\n"
   ]
  }
 ],
 "metadata": {
  "kernelspec": {
   "display_name": "urbia-rag",
   "language": "python",
   "name": "python3"
  },
  "language_info": {
   "codemirror_mode": {
    "name": "ipython",
    "version": 3
   },
   "file_extension": ".py",
   "mimetype": "text/x-python",
   "name": "python",
   "nbconvert_exporter": "python",
   "pygments_lexer": "ipython3",
   "version": "3.12.2"
  }
 },
 "nbformat": 4,
 "nbformat_minor": 4
}
