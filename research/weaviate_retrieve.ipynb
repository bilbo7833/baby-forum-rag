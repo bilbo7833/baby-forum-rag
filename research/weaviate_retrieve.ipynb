{
 "cells": [
  {
   "cell_type": "markdown",
   "metadata": {},
   "source": [
    "## Retrieving"
   ]
  },
  {
   "cell_type": "markdown",
   "metadata": {},
   "source": [
    "1. Start Docker Service\n",
    "2. Start Docker configuration in `docker-compose.yaml` with `docker compose up`"
   ]
  },
  {
   "cell_type": "code",
   "execution_count": 67,
   "metadata": {},
   "outputs": [],
   "source": [
    "import os\n",
    "import weaviate\n",
    "from llama_index.vector_stores.weaviate import WeaviateVectorStore\n",
    "from llama_index.core.query_engine import RetrieverQueryEngine\n",
    "from llama_index.core.retrievers import VectorIndexRetriever\n",
    "from llama_index.core.postprocessor import SimilarityPostprocessor\n",
    "from llama_index.core import StorageContext, VectorStoreIndex, get_response_synthesizer, Settings\n",
    "from llama_index.llms.anthropic import Anthropic\n",
    "from llama_index.embeddings.huggingface import HuggingFaceEmbedding\n",
    "\n",
    "\n",
    "\n",
    "EMBEDDING_MODEL = 'aari1995/German_Semantic_STS_V2'\n",
    "\n",
    "def save_file(file, text):\n",
    "    f = open(file, \"w\")\n",
    "    f.write(text)\n",
    "    f.close()"
   ]
  },
  {
   "cell_type": "code",
   "execution_count": 68,
   "metadata": {},
   "outputs": [],
   "source": [
    "# os.environ[\"ANTHROPIC_API_KEY\"] = \"\"\n"
   ]
  },
  {
   "cell_type": "code",
   "execution_count": 69,
   "metadata": {},
   "outputs": [
    {
     "name": "stderr",
     "output_type": "stream",
     "text": [
      "No sentence-transformers model found with name aari1995/German_Semantic_STS_V2. Creating a new one with MEAN pooling.\n"
     ]
    }
   ],
   "source": [
    "tokenizer = Anthropic().tokenizer\n",
    "llm = Anthropic(model=\"claude-3-haiku-20240307\")\n",
    "embedding_model = HuggingFaceEmbedding(model_name=EMBEDDING_MODEL)\n",
    "Settings.tokenizer = tokenizer\n",
    "Settings.llm = llm\n",
    "Settings.embed_model = embedding_model"
   ]
  },
  {
   "cell_type": "code",
   "execution_count": 70,
   "metadata": {},
   "outputs": [
    {
     "name": "stdout",
     "output_type": "stream",
     "text": [
      "{'hostname': 'http://[::]:8080', 'modules': {}, 'version': '1.24.10'}\n"
     ]
    }
   ],
   "source": [
    "client = weaviate.Client(\"http://localhost:8080\")\n",
    "print(client.get_meta())"
   ]
  },
  {
   "cell_type": "code",
   "execution_count": 71,
   "metadata": {},
   "outputs": [],
   "source": [
    "vector_store = WeaviateVectorStore(weaviate_client = client, embed_model=embedding_model, index_name=\"BabyForum\")\n",
    "storage_context = StorageContext.from_defaults(vector_store = vector_store)\n",
    "index = VectorStoreIndex.from_vector_store(vector_store=vector_store, storage_context=storage_context)"
   ]
  },
  {
   "cell_type": "code",
   "execution_count": 72,
   "metadata": {},
   "outputs": [],
   "source": [
    "from llama_index.core.vector_stores import MetadataFilter, MetadataFilters, FilterCondition, FilterOperator\n",
    "filters = MetadataFilters(\n",
    "    filters = [MetadataFilter(\n",
    "        key=\"score\",\n",
    "        operator=FilterOperator.GT, \n",
    "        value=0.75\n",
    "    )]\n",
    ")\n",
    "\n",
    "\n",
    "retriever = VectorIndexRetriever(\n",
    "    index=index,\n",
    "    similarity_top_k=10,\n",
    "    # filters=filters,\n",
    ")\n",
    "response_synthesizer = get_response_synthesizer(llm = llm, response_mode=\"simple_summarize\")"
   ]
  },
  {
   "cell_type": "code",
   "execution_count": 73,
   "metadata": {},
   "outputs": [],
   "source": [
    "query_engine = RetrieverQueryEngine(\n",
    "    retriever=retriever,\n",
    "    response_synthesizer=response_synthesizer,\n",
    "    node_postprocessors=[SimilarityPostprocessor(similarity_cutoff=0.75)],\n",
    ")"
   ]
  },
  {
   "cell_type": "code",
   "execution_count": 74,
   "metadata": {},
   "outputs": [],
   "source": [
    "# from IPython.display import Markdown, display\n",
    "# def display_prompt_dict(prompts_dict):\n",
    "#     for k, p in prompts_dict.items():\n",
    "#         text_md = f\"**Prompt Key**: {k}<br>\" f\"**Text:** <br>\"\n",
    "#         display(Markdown(text_md))\n",
    "#         print(p.get_template())\n",
    "#         display(Markdown(\"<br><br>\"))"
   ]
  },
  {
   "cell_type": "code",
   "execution_count": 75,
   "metadata": {},
   "outputs": [],
   "source": [
    "# prompts_dict = query_engine.get_prompts()\n",
    "# display_prompt_dict(prompts_dict)"
   ]
  },
  {
   "cell_type": "code",
   "execution_count": 76,
   "metadata": {},
   "outputs": [],
   "source": [
    "from llama_index.core import PromptTemplate\n",
    "PROMPT_TEMPLATE = \"\"\"Du bist ein hilfreicher deutscher Assistent für junge Eltern, der Informationen aus Foren sammelt, um Eltern bei der Beantwortung von Fragen über ihre Kinder zu helfen.\n",
    "\n",
    "            Verwende die folgenden Konversationen aus Elternforen, um den Nutzer über ein bestimmtes Thema zu helfen. Jede Zeile beginnt mit dem Namen des Benutzers, gefolgt von \":\" und dann dem Kommentar, zum Beispiel so: \"John: Bei mir ist es genauso.\"\n",
    "            Verschiedene Konversationen können sich auf dasselbe Thema beziehen.\n",
    "            <conversations>\n",
    "            {context_str}\n",
    "            </conversations>\n",
    "            \n",
    "            Wenn du die Unterhaltungen im Forum zitierst, gib bitte den Benutzernamen in deiner Antwort an. Hier sind Beispielw in <example> Tags:\n",
    "            <example>\n",
    "            Viele Nutzer sagen dass es normal ist Kinder nachts zu stillen. Cari234 sagt, z.B, dass sie täglich überfordert ist. Lomo2 hat gleiche Erfahrungen.\n",
    "            </example>\n",
    "            <example>\n",
    "            Die Konversationen beinhalten keine Hinweise ob es normal ist, dass Kinder nachts Wachfenster haben.\n",
    "            </example>\n",
    "\n",
    "            Hier ist deine Aufgabe: Welche relevanten Informationen kannst du aus den oben genannten Gesprächen zu diesem Thema entnehmen? Das Thema ist unten in <question>-Tags:\n",
    "            <question>\n",
    "            {query_str}\n",
    "            </question>\n",
    "\n",
    "            Um deine Aufgabe zu erledigen, gehe die folgenden Schritte durch:\n",
    "            1. Erstelle eine umfassende Zusammenfassung für jede Konversation in <conversation> Tags oben. Die Zusammenfassungen sollte alle wichtigen Punkte und Hauptgedanken des Originaltextes die sich auf diesem Aufgabe Thema beziehen abdecken und gleichzeitig die Informationen in einem prägnanten und leicht verständlichen Format zusammenfassen.\n",
    "            Achte bitte darauf, dass die Zusammenfassung die Usernamen, relevante Details und Beispiele enthält, die die Hauptgedanken unterstützen, und vermeide unnötige Informationen oder Wiederholungen.\n",
    "            2. Erledige deine Aufgabe auf der Grundlage der Zusammenfassungen von Schritt 1. Füge alle relevanten Informationen, Details und Beispiele ein die aus der Zusammenfassungen rauskommen und sich auf diesem Thema beziehen. Behalte die Antwort auf maximal 5 Sätze.\n",
    "\n",
    "            Wenn du die Aufgabe erledigst, nenn bitte konkrete Beispiele und Tipps aus den Forendiskussionen und verallgemeinere die Details nicht. Wenn du die Antwort nicht weißt, sag einfach, dass du es nicht weißt.\n",
    "            Fang deine Antwort mit \"Das sagen andere Nutzer dazu:\" an. Danach, gib die Zusammenfassungen von Schritt 1 aus als Bulletpoint-Liste aus. Für jede Konversation soll es ein Bulletpoint geben. Gib dann deine zusammenfassende Antwort gemäß Schritt 2 in eine neue Zeile ein.\n",
    "            Hier sind Beispiele wie deine Antworten formattiert werden sollen, in <answer-example>-Tags:\n",
    "\n",
    "            <answer-example>\n",
    "            Das sagen andere Nutzer dazu:\n",
    "            - jomda erklärt, dass Babys manchmal schreien, wenn ältere Geschwister versorgt werden müssen oder wenn das Baby nachts wach wird, weil der Betreuer kurz etwas erledigen muss.\n",
    "            - Mami83 berichtet, dass ihr Baby auch Phasen hatte, in denen es sehr unruhig war und häufig nachts aufwachte. Caro34 bestätigt.\n",
    "\n",
    "            Das sagen die Nutzer zusammengefasst: Häufiges nächtliches Aufwachen und Unruhe sind bei Babys oft normal und hängen mit deren Entwicklung und Bedürfnissen zusammen. Die Situation kann vorübergehend sehr herausfordernd sein, aber die Eltern müssen durchhalten, da es mit der Zeit wieder besser wird.\n",
    "            </answer-example>\n",
    "            <answer-example>\n",
    "            Das sagen andere Nutzer dazu:\n",
    "            - bilbo45 sagt, dass solche schwierigen Phasen normal sind und immer wieder kommen können, da sich Babys ständig weiterentwickeln. Sie ermutigt, durchzuhalten, da es mit der Zeit besser wird.\n",
    "            - Micebwn beschreibt, dass ihr 9 Monate altes Baby seit Tagen nachts weinend aufwacht.\n",
    "\n",
    "            Aus den Gesprächen geht hervor, dass bei den meisten Kindern dieser spezielle Test mit schwarzen und weißen Punkten, bei denen das Kind etwas Bestimmtes erkennen und zeigen soll, im Alter von 11 Monaten noch nicht funktioniert. Die Eltern berichten, dass ihre Kinder stattdessen eher versuchen, mit den Fingern in den Mund der Ärzte zu kommen oder generell eher an der Untersuchung interessiert sind als an dem Test.\n",
    "            </answer-example>    \n",
    "\n",
    "            Erledige jetzt bitte deine Aufgabe bezüglich des Themas von oben.\n",
    "            \"\"\"\n",
    "\n",
    "qa_prompt_tmpl = PromptTemplate(PROMPT_TEMPLATE)\n",
    "query_engine.update_prompts(\n",
    "    {\"response_synthesizer:text_qa_template\": qa_prompt_tmpl}\n",
    ")"
   ]
  },
  {
   "cell_type": "code",
   "execution_count": 77,
   "metadata": {},
   "outputs": [],
   "source": [
    "# prompts_dict = query_engine.get_prompts()\n",
    "# display_prompt_dict(prompts_dict)"
   ]
  },
  {
   "cell_type": "code",
   "execution_count": 78,
   "metadata": {},
   "outputs": [
    {
     "name": "stdout",
     "output_type": "stream",
     "text": [
      "Node 9b7d7295-8397-4399-b5e3-ecc778f434f3 with similarity score 0.80401653:\n",
      "lizzywithD: danke dir! das mit dem im eigenen zimmer schlafen überlege ich mir ständig aber ich kann mir einfach nicht vorstellen dass es dann besser klappen sollte🙈\n",
      "\n",
      "Kuddelmuddel: Zur Historie: Familienbett war bei um uns immer undenkbar. Junior hat geschnarcht. Das war nicht auszuhalten. Deswegen stand sein Bett nur 2 Tage neben unseren. Irgendwann hab ich beobachtet dass er als sein schnarchen besser werde er wach wurde wenn wir uns gedreht haben... Als ich das beim Kia erzählte, kann gleich, dass klar sids usw ein Zimmer mit uns wichtig ist. Aber er war 8 Monate und aus den gröbsten raus. Und sobald er uns nicht mehr hören konnte gibt es besser... \n",
      "Ich würde das wegen sids aber mit den Kia absprechen. Und auch bitte machen wenn du Indizien hast dass es helfen könnte... \n",
      "Was schon toll ist: man bekommt auch nicht alles von Kind mit wenn es nicht in Zimmer schläft und wird nicht geweckt...\n",
      "\n",
      "Elly0109: Meine tochter war 4 jahre tagwache zwischen 03.30 und spätestens 4 uhr 😂💪🏼\n",
      "Ja kinder sind unterschiedlich und wird sich auch noch des öfteren ändern\n",
      "Durchhalten 💪🏼\n",
      "Jetzt mit 7,5 jahren ist spätestens 6 uhr tagwache egal ob um 18.00 ins bett oder 21.00 😂\n",
      "Sie ist halt frühaufsteherin 🤷🏼‍♀️\n",
      "Sohnemann wird um 6.30 für kiga geweckt und wochenende tagwache um 7.30 bis 8.30 🥰\n",
      "\n",
      "lizzywithD: oh wow, das muss sehr erholsam gewesen sein😂\n",
      "\n",
      "Elly0109: Ja vorallem weil sie slebst in der nacht auch des öfteren nach der flasche verlangte oder auch ab und an ins bett kam zwischen 1 und 2 uhr 😅\n",
      "Aber es half mir das ich mir tag für tag dachte es ist „nur“ eine phase 😂 hahaa pustekuchen😂😂\n",
      "Aber jetzt mit 7.5 richte ich am vortag das frühstück her das holt sie sich geht sich anziehen und frisieren und dann werde ich geweckt auser sie trödelt dann läutet davor der wecker 🤭\n",
      "Also IRGENDWANN wird es besser 🙏🏼😂\n",
      "Kopf hoch und viele nerven wünsch ich dir 🥰💪🏼\n",
      "\n",
      "\n",
      "\n",
      "Node 3bd70332-551b-475b-84e6-e90cab4ab00e with similarity score 0.79711473:\n",
      "SteMatz: Schlichtweg ... JA. Meine Maus schläft auch durch, leider sehr unruhig und ich werde bei jeder Kleinigkeit wach. Und das ist im Schnitt so alle 1-2 Stunden. Aber wir hatten auch schon Nächte gehabt, wo sie 3 mal in der Stunde voll zappelte. Heute kam sie schon 5:45 und war der Meinung einfach wach zu sein. Ich komm auch nicht immer mit dem Schlafmangel klar und bin zerstreut. Man lernt aber damit umzugehen.\n",
      "\n",
      "Blabliblu: Mit den Monaten und Jahren gewöhnt man sich daran (sofern die Blutwerte passen). Du wurdest halt vorher gar nie geweckt nachts, vermute ich. \n",
      "Von selbst aufwachen und geweckt werden, sind zwei paar Schuhe.\n",
      "\n",
      "Muriel: Hallo, es kommt auch drauf an in welcher Schlafphase du geweckt wirst, nicht nur die Häufigkeit. Wenn du auch nur ein Mal in der Nacht in der falschen Schlafphase erwischt wirst und dein Körper in diese nun fehlende Phase nicht lang genug reinkommt, wirst du müde sein.\n",
      "Sicherlich kommt es drauf an ob man gesundheitlich angeschlagen ist und die Hormone tragen auch etwas dazu bei. Die stellen sich bei dir ja immernoch ein nach 5 Monaten.\n",
      "Alles Gute.\n",
      "\n",
      "lattemachiatto: Wenn ich müde bin, dann liegt es bei mir meist daran:\n",
      "- Vitamin D Mangel\n",
      "- Eisenmangel\n",
      "- Baby schlief weiter weg von mir (3m weit weg in der Federwiege) und dadurch wurde ich in der falschen Schlafphase geweckt. Wenn das Baby direkt bei mir liegt oder im Beistellbett neben mir, dann gleichen sich unsere Schlafphasen besser an und ich wache leichter auf und schlafe nach dem stillen schneller weiter.\n",
      "\n",
      "\n",
      "\n",
      "Node 8985414b-3dfd-4d11-bc4b-a2a0d4ebd3ef with similarity score 0.79370987:\n",
      "Mami823: War bei uns genauso. Als er ca. 3,5 Monate alt war, habe ich mein Baby nicht wiedererkannt. Er schlief tagsüber nur noch auf meinem Arm. Nach 30 Minuten war er wieder wach. Aber auch nicht ausgeschlafen. Ich habe ihn dann konsequent alle 2 Stunden versucht zum Schlafen zu bringen. Sonst war er komplett übermüdet. Wir konnten nie lange von Zuhause weg, weil er nur am quengeln war. Die Zeit war anstrengend. Aber ich muss dir leider sagen, es werden immer wieder solche Phasen kommen. Und wenn man denkt, schlimmer kann es nicht werden... Doch es geht 😅 mein Kleiner ist jetzt 6,5 Monate, bekommt sein erstes Zähnchen, will alles sehen, alles anfassen. Die Nächte in den letzten 4 Wochen waren mehr als bescheiden 😔. So langsam wird es wieder etwas besser. Und gefühlt kann er jeden Tag etwas Neues. \n",
      "Bitte denke nicht dass dein Baby dich hasst! Es macht das nicht um dich zu ärgern. Die Entwicklung geht voran und es passiert so viel in dem kleinen Körper. Halte durch! 😊\n",
      "\n",
      "Mami823: Bäuerchen haben wir übrigens nachts nie gemacht. Wenn er sich für ein Fläschchen gemeldet hat, habe ich ihn direkt in seinem Beistellbett gefüttert. Sobald die Flasche leer war, hat er weiter geschlafen. Hätte ich ihn für ein Bäuerchen hochgenommen, wäre er direkt wach gewesen.\n",
      "\n",
      "\n",
      "\n",
      "Node a30b9863-e1d3-4883-8490-d65691e401cf with similarity score 0.79095107:\n",
      "Sonnenschein729: Hallo 🙋🏼‍♀️ mein Sohn wird nächste Woche erst fünf Monate alt. Liest sich als wäre dein Kind schon älter. Wir haben kein situp Problem, aber ein Greif Problem. Seitdem er bewusster nach Sachen greifen kann dauert das einschlafen länger. Manchmal liegt er einfach da und starrt seine Hände an wie sie nach meinem Shirt greifen oder dem Bettlaken. Selbiges Spiel auch mitten in der Nacht. Manchmal wird er einfach wach und greift dann herum. Seit neustem dreht er sich auch immer auf die Seite. Ständig von links nach rechts und dann meckert er, weil er wieder zurück auf den Rücken will.\n",
      "Ich glaube die Zwerge testen nachts einfach ihre neuen Fähigkeiten. Bei euch scheint ja gesundheitlich auch alles in Ordnung zu sein, also mag er es vielleicht zurzeit einfach gerne situps zu machen und seine Bauchmuskeln zu testen.😆\n",
      "Wünsche euch starke Nerven.🍀\n",
      "\n",
      "Unknown: Hey. Hier genau das selbe \n",
      "Eines morgens steh ich auf und merke das jemand an meiner Nase greift 😅 \n",
      "Es ist schon anstrengend weil die halt auch richtig zu packen und er will schlafen aber die Hände greifen automatisch alles was in die Quere kommt 🫠\n",
      "\n",
      "Sonnenschein729: Oh ja und wie die Zwerge zupacken! Das habe ich mir vorher gar nicht vorstellen können wie kräftig Baby Hände sein können. Sie sind wie Krallen. Einmal was in den Händen - kaum wieder loszukriegen.😆\n",
      "Ich trage eine Brille und da ist es manchmal echt schwierig schnell aufzupassen.🙈\n",
      "\n",
      "\n",
      "\n",
      "Node 9670094e-6b35-4c32-b7fd-8a0ddc46e03d with similarity score 0.79071355:\n",
      "Thema:ist das noch normal?\n",
      "lizzywithD: hallo community\n",
      "beitrag nr. 4 in kürzerer zeit. \n",
      "thema: babyschlaf. \n",
      "es wird einfach immer schlimmer und langsam mache ich mir sorgen ob mein baby eine schlafstörung hat? meine schwester und schwägerin hatten auch nicht die besten schläfer aber das verhalten meines babys topt wohl alles..\n",
      "er war noch nie ein super schläfer aber die ersten 3-4 monate war es echt okay! heute ist er 6.5 monate und seit 2 monaten geht es immer mehr bergab mit schlafen. es wurden  mehr und mehr fläschchen in der nacht, er stand immer früher auf und wurde immer öfters wach in der nacht. zur zeit schläft er ca um 18.15 und steht um ca. 05.15 auf. in der nacht sind es also ca 10.5-11 stunden was ja eigentlich okay ist. das frühe aufstehen erachte ich aber schon als sehr anstrengend plus ist er zb letzte nacht jede  stunde aufgewacht und brauchte die flasche, plus war er um 03.45 bis 05.00 einfach wach😞 er hat dann nochmals bis 06.45 geschlafen (mit 1 trinkunterbrechung und natürlich in der federwiege🙄). am tag schaffen wir höchstens 3h schlaf (meistens weniger) in 3-4 schläfchen. ich frage mich ob das zu wenig ist und er deshalb schlecht schläft in der nacht? man sagt ja schlaf fördert schlaf.. dann ist es noch so dass wir ihm anscheinend das föngeräusch auf youtube angewöhnt haben und er das zum einschlafen braucht (muss es nach dem einschlafen immer sehr laut stellen da er nach einigen sekunden wieder aufschreckt und weint und er sich dann nur so beruhigen lässt) \n",
      "hört sich das für euch noch normal an oder haben wir hier einen speziellen fall? am tag ist er meistens gut drauf und auch nach den (kurzen) schläfchen ist seine laune gut.\n",
      "sorry für den langen text und danke fürs lesen!\n",
      "\n",
      "\n",
      "\n",
      "Node a8f06dce-b240-494a-87ba-2bba49c55e6f with similarity score 0.78898525:\n",
      "Thema:Baby macht in der Nacht Situps\n",
      "LiNo33: Hallo zusammen,\n",
      "mein kleiner schläft seit einigen Wochen wieder schlechter, wo ich erst davon ausging das es vielleicht ein Schub. Nun war die letzte Woche wieder besser auch wenn 6:30Uhr Feierabend war mit schlafen. Aber an sich waren die Nächte wieder gut. Die letzten 3 Nächte waren aber eher sehr anstrengend! Er geht um 20Uhr ins Bett und fängt an Situps zu machen und es dauert ein Weilchen bis er in den Schlaf findet. Was aber noch zeitlich okay ist. Dann wacht er gegen 24:00Uhr wieder auf mit Situps , wo ich ihn mit stillen beruhigen kann und er wieder einschlafen kann. Um 1:30Uhr… selbes Spiel aber mit einer längeren Wachphase. Ab um 4:00Uhr wacht er dann wieder auf und schreit und macht seine Situps, pupst und ist weinerlich. Dazu quasselt und macht seltsame Zungenspiele.😅\n",
      "Kennt jemand von euch das mit den Situps? Ich sprach schon öfter meine Hebamme darauf an aber die meinte der Magen kann es nicht sein (die Zeit für Koliken sei vorbei) Das denke ich ja auch nicht das es das ist. Ich bin dennoch ratlos. Die Kinderärztin meinte es sei alles okay beim abhören…\n",
      "Ich weiß leider nur nicht mehr weiter. Er quält sich und ich bin am Tag echt ausgelaugt, weil der Schlaf fehlt…\n",
      "Vielleicht kennt ihr ja auch sowas und könnt mich ein bisschen beruhigen. 🙃\n",
      "\n",
      "Laralar: Wie alt ist er denn? Seitdem meine kleine sich auf dem Bauch dreht, macht sie das Nachts stäääändig und die Nächte sind genauso wie bei dir beschrieben mega anstrengend. Ich glaube sie testen ihre neue Fähigkeiten Nachts. \n",
      "lg\n",
      "\n",
      "LiNo33: Oooh das beruhigt mich gerade.😁 Hab mir wieder sorgen gemacht das er Bauchweh hat oder andere schmerzen, weil er ja einfach anfängt zu schreien.\n",
      " Er ist 6,5 Monate alt. Vorm einschlafen macht er das und in der Nacht. Am Tag hebt er immer seinen Kopf an und guckt was los ist.😄\n",
      "Ich hoffe es ist nur eine Phase, die schnell vorbei geht. Der fehlende Schlaf fehlt ihm und auch mir…😵‍💫\n",
      "\n",
      "\n",
      "\n",
      "Node 8c4fc99b-6bef-46b4-b54c-b7486906fba4 with similarity score 0.78773314:\n",
      "Thema:Baby 21 Wochen alt\n",
      "Vanni9: Hallo zusammen, \n",
      "Unser kleine ist heute 21 Wochen alt. Seit circa 2 Wochen wacht sie aus dem Tagesschlaf ( der im Moment höchstens eine halbe Stunde geht) schreiend auf. Nachts ist das nicht, da schläft sie derzeit fast durch, nur manchmal etwas unruhiger. Wisst ihr was das sein könnte ? Schub ? Schlafregression ? 🥺 danke euch im Voraus\n",
      "\n",
      "Wunschmama2o20: Wir haben das auch grade mit dem Tagesschkaf und sind im vierten Schub.. bei euch könnte es vllt schon Sprung 5 sein der das verursacht 🫣\n",
      "\n",
      "Mia1234: Hallo,\n",
      "mein Sohn ist jetzt 18 Wochen alt und wacht auch schreiend aus dem tagschlaf auf. Bei nur einer halben Stunde pro Schläfchen sind wir aber schon seit ein paar Wochen leider total nervig 🫠\n",
      "\n",
      "\n",
      "\n",
      "Node 870fbe83-cb9d-4f4a-87d9-da40c5246639 with similarity score 0.7872818699999999:\n",
      "Tanja.SoSo: Hallöchen und ein frohes neues Jahr euch allen! 🍀🎆\n",
      "Wahnsinn, wie schnell die Zeit doch rennt. Unser Kleiner ist nun 5 Monate und ein richtiger Sonnenschein, ab dem Moment wo morgens die Augen aufgehen. ☺️\n",
      "Wir sind von Anfang an richtig verwöhnt, er geht meistens gegen 20 Uhr ins Bett (Beistellbett am Ehebett) gegen 4 Uhr wird bisschen gemeckert und dann hol ich ihn zu uns ins Bett und da schläft er dann bis 5.30 Uhr ca.\n",
      "Weder eine Drehung oder die Zähnchen sind zu sehen, allerdings robbt er sich immer mal wieder etwas nach vorne. Auf Beikost hat er noch gar keine Lust, ich geb ihm immer mal etwas Gemüse zum erfühlen und kennenlernen, aber richtig Interesse ist noch nicht da. \n",
      "Weiterhin alles gute euch allen. \n",
      "Liebe Grüße aus dem Allgäu\n",
      "\n",
      "\n",
      "\n",
      "Node 9f926014-e859-4d79-bc08-c81028f10066 with similarity score 0.78485173:\n",
      "Jolana: Ich gehör auch zur Kategorie \"klingt wie bei uns und normal\". Der Kleine (4,5 Monate) schläft aktuell vom 19- 5 oder 6 Uhr. Mit Stillen alle 2 Stunden ab 21/22 Uhr.\n",
      "Auch unser Großer (3) ist seit Geburt ein Frühaufsteher und kommt normalerweise zwischen 5:30 und 6:00. An richtig guten Tagen schafft er 6:30.\n",
      "Heute waren wir auch von 4-5 wach..Um 5 stand dann auch der Große auf der Matte und ist zum Glück mit uns nochmal eingeschlafen. \n",
      "Regelmäßig steh ich aber um 5:30 mit beiden Kindern auf, weil die Nacht vorbei ist.\n",
      "Einzig die Föhngeräusche haben wir hier nicht, in schlechten Nächten muss ich dafür aufstehen und den Zwerg wieder in den Schlaf tragen.\n",
      "Aber ich bin bei dir: Es macht müde! Aber es wird irgendwann besser. Beim Großen allerdings damals erst mit ~ 1,5 und bis heute schläft er nicht alleine durch ,🤷\n",
      "\n",
      "lizzywithD: auch dir vielen dank für den bericht, da fühlt man sich gleich weniger allein und das hilft, auch wenn ich dadurch nicht mehr schlaf kriege😂\n",
      "\n",
      "MareiK: Hi\n",
      "Drei meiner vier Kinder haben so entspannt geschlafen wie bei dir. Ich halte es also für absolut normal.\n",
      "Meine erste war da anders. Die hat das erste Lebensjahr noch jede Stunde nachts und auch tagsüber getrunken. War halt so. War echt anstrengend. Mit dem ersten Geburtstag würde es besser. Erst dehnten sich die Zeiträume auf 1, 5 h aus, dann auf 2.\n",
      "\n",
      "lizzywithD: huch, hört sich anstrengend an! ich hoffe immer noch sehr, dass es bei uns bei einer phase bleibt und sich nicht bis oder über den 1. geburtstag zieht.. 😵‍💫 mal schauen🙈\n",
      "\n",
      "Kuddelmuddel: Nein ich glaube nicht dass er eine Schlafstörung hat. \n",
      "Zur Referenz: mein Sohn hat auch erst toll geschlafen. In den Alter dann alle 45 Minuten wach!!! Das ging so bis wir ihn mit 8 Monaten in seinem Zimmer schlafen ließen (sogar Tipp vom Kia weil wir so übermüdet waren es halt mal so zu probieren). Dann wären es nur noch alle 1.5h... \n",
      "Jetzt mit 2 schläft er meistens durch  und das ist damit vollkommen okay von der Entwicklung her...\n",
      "\n",
      "\n",
      "\n",
      "Node 69cec165-b713-4140-b9be-434f5c4ea4f4 with similarity score 0.784706:\n",
      "Thema:Baby sehr zappelig unruhig\n",
      "Nanus: Hallo muttis\n",
      "Meine tochter fast 5 moange alt ist sehr zappelig und unruhig auch beim schlaf. Sie kann kaum ruhig schlafen. Beim schlafen dreht sie den kopf hin und her die arme bewegt sie auch hin und her. Also ganz unruhig. Auch mit ihrem körper ist sie unruhig . Wenn sie wach wird zittern ihre arme kurz und fängt an zu weinen. Mittags wenn sie nicht schläft ist sie auch sehr zappelig. Auch wenn sie trinkt sind ihre Arme unruhig und gebauso wenn jch sie schlafen bringe. Durch diese armbewegungen haut Sie  auch gegen ihren kopf und auch sehr oft und stark und Macht ständig die gleichen Bewegungen öfters. obwohl es wehtuen könnte. Dies macht mir angst. \n",
      "Ist das nur eine phase oder kann da was anderes hinter stecken?\n",
      "\n",
      "SteMatz: Das ist normal. Zumindest hat mir das die Hebamme gesagt. Wir pucken unsere Maus daher ein, wenn es überhand nimmt. Da sie so gar nicht in den Schlaf finden kann. Seitdem schläft sie besser.\n",
      "\n",
      "Nanus: Wie alt iste deine maus\n",
      "\n",
      "SteMatz: 11 Wochen\n",
      "\n",
      "\n",
      "\n"
     ]
    }
   ],
   "source": [
    "answer1 = query_engine.query(\"Kind wacht stündlich auf\")"
   ]
  },
  {
   "cell_type": "code",
   "execution_count": 85,
   "metadata": {},
   "outputs": [
    {
     "name": "stdout",
     "output_type": "stream",
     "text": [
      "Source #9b7d7295-8397-4399-b5e3-ecc778f434f3 has score 0.80401653:\n",
      "lizzywithD: danke dir! das mit dem im eigenen zimmer schlafen überlege ich mir ständig aber ich kann\n",
      "Source #3bd70332-551b-475b-84e6-e90cab4ab00e has score 0.79711473:\n",
      "SteMatz: Schlichtweg ... JA. Meine Maus schläft auch durch, leider sehr unruhig und ich werde bei je\n",
      "Source #8985414b-3dfd-4d11-bc4b-a2a0d4ebd3ef has score 0.79370987:\n",
      "Mami823: War bei uns genauso. Als er ca. 3,5 Monate alt war, habe ich mein Baby nicht wiedererkannt.\n",
      "Source #a30b9863-e1d3-4883-8490-d65691e401cf has score 0.79095107:\n",
      "Sonnenschein729: Hallo 🙋🏼‍♀️ mein Sohn wird nächste Woche erst fünf Monate alt. Liest sich als wäre \n",
      "Source #9670094e-6b35-4c32-b7fd-8a0ddc46e03d has score 0.79071355:\n",
      "Thema:ist das noch normal?\n",
      "lizzywithD: hallo community\n",
      "beitrag nr. 4 in kürzerer zeit. \n",
      "thema: babys\n",
      "Source #a8f06dce-b240-494a-87ba-2bba49c55e6f has score 0.78898525:\n",
      "Thema:Baby macht in der Nacht Situps\n",
      "LiNo33: Hallo zusammen,\n",
      "mein kleiner schläft seit einigen Woche\n",
      "Source #8c4fc99b-6bef-46b4-b54c-b7486906fba4 has score 0.78773314:\n",
      "Thema:Baby 21 Wochen alt\n",
      "Vanni9: Hallo zusammen, \n",
      "Unser kleine ist heute 21 Wochen alt. Seit circa 2\n",
      "Source #870fbe83-cb9d-4f4a-87d9-da40c5246639 has score 0.7872818699999999:\n",
      "Tanja.SoSo: Hallöchen und ein frohes neues Jahr euch allen! 🍀🎆\n",
      "Wahnsinn, wie schnell die Zeit doch r\n",
      "Source #9f926014-e859-4d79-bc08-c81028f10066 has score 0.78485173:\n",
      "Jolana: Ich gehör auch zur Kategorie \"klingt wie bei uns und normal\". Der Kleine (4,5 Monate) schläf\n",
      "Source #69cec165-b713-4140-b9be-434f5c4ea4f4 has score 0.784706:\n",
      "Thema:Baby sehr zappelig unruhig\n",
      "Nanus: Hallo muttis\n",
      "Meine tochter fast 5 moange alt ist sehr zappel\n"
     ]
    }
   ],
   "source": [
    "count = 0\n",
    "for source in answer1.source_nodes:\n",
    "    print(f\"Source #{count} has score {source.score}:\\n{source.text[:100]}\")\n",
    "    count += 1\n",
    "\n",
    "# print(answer1)"
   ]
  },
  {
   "cell_type": "code",
   "execution_count": null,
   "metadata": {},
   "outputs": [],
   "source": [
    "answer2 = query_engine.query(\"Wer kümmert sich um das Kind nachts?\")\n",
    "for n in answer2.source_nodes:\n",
    "    print(f\"Node {n.node_id} with similarity score {n.score}:\\n{n.text}\\n\\n\\n\")"
   ]
  },
  {
   "cell_type": "code",
   "execution_count": null,
   "metadata": {},
   "outputs": [],
   "source": [
    "print(answer2)"
   ]
  },
  {
   "cell_type": "code",
   "execution_count": null,
   "metadata": {},
   "outputs": [],
   "source": [
    "from pprint import pprint\n",
    "answer3 = query_engine.query(\"Wann darf man mit kind ins Tropical Island?\")"
   ]
  },
  {
   "cell_type": "code",
   "execution_count": null,
   "metadata": {},
   "outputs": [],
   "source": [
    "pprint(str(answer3))"
   ]
  }
 ],
 "metadata": {
  "kernelspec": {
   "display_name": "urbia-rag",
   "language": "python",
   "name": "python3"
  },
  "language_info": {
   "codemirror_mode": {
    "name": "ipython",
    "version": 3
   },
   "file_extension": ".py",
   "mimetype": "text/x-python",
   "name": "python",
   "nbconvert_exporter": "python",
   "pygments_lexer": "ipython3",
   "version": "3.12.2"
  }
 },
 "nbformat": 4,
 "nbformat_minor": 2
}
